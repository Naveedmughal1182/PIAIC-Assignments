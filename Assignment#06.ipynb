{
 "cells": [
  {
   "cell_type": "code",
   "execution_count": 5,
   "metadata": {},
   "outputs": [
    {
     "name": "stdout",
     "output_type": "stream",
     "text": [
      "Please Enter Your Radius for Circle: 7\n",
      "Area of Circle is:  153.86\n",
      "Perimeter of Circle is:  43.96\n"
     ]
    }
   ],
   "source": [
    "# Write a Python class named Circle constructed by a radius and two\n",
    "# methods which will compute the area and the perimeter of a circle\n",
    "\n",
    "class circle:\n",
    "    def __init__(self,radius,PI = 3.14):\n",
    "        self.r = radius\n",
    "        self.PI = PI\n",
    "    def Area_of_Circle(self):\n",
    "        area_of_circle = self.PI*self.r*self.r\n",
    "        return area_of_circle\n",
    "    def perimeter_of_circle(self):\n",
    "        perimeter_of_circle = 2*self.PI*self.r\n",
    "        return perimeter_of_circle\n",
    "Circle= circle(float(input(\"Please Enter Your Radius for Circle: \")))\n",
    "print(\"Area of Circle is: \",Circle.Area_of_Circle())\n",
    "print(\"Perimeter of Circle is: \",Circle.perimeter_of_circle())\n"
   ]
  },
  {
   "cell_type": "code",
   "execution_count": 8,
   "metadata": {},
   "outputs": [
    {
     "name": "stdout",
     "output_type": "stream",
     "text": [
      "Please Enter your name: naveed\n",
      "NAVEED\n"
     ]
    }
   ],
   "source": [
    "# Write a Python class which has two methods get_String \n",
    "# and print_String. get_String accept a string from the user and \n",
    "# print_String print the string in upper case.\n",
    "\n",
    "class string:\n",
    "    def __init__(self):\n",
    "        self.Name = \"\"\n",
    "    def get_string(self):\n",
    "        self.Name = input(\"Please Enter your name: \")\n",
    "    def print_string(self):\n",
    "        print(self.Name.upper())\n",
    "user1 = string()\n",
    "user1.get_string()\n",
    "user1.print_string()\n",
    "        \n",
    "        \n"
   ]
  },
  {
   "cell_type": "code",
   "execution_count": 9,
   "metadata": {},
   "outputs": [
    {
     "name": "stdout",
     "output_type": "stream",
     "text": [
      "Please Enter Your Name: Naveed\n",
      "deevaN\n"
     ]
    }
   ],
   "source": [
    "# Write a Python class to reverse a string word by word.\n",
    "# - Go to the editor Input string : 'hello .py' Expected Output : '.py hello'\n",
    "class Reverse:\n",
    "    def __init__(self):\n",
    "        self.name = \"\"\n",
    "    def get_string(self):\n",
    "        self.name = input(\"Please Enter Your Name: \")\n",
    "    def reverse_string(self):\n",
    "        x = self.name[::-1]\n",
    "        return x\n",
    "user1 = Reverse()\n",
    "user1.get_string()\n",
    "print(user1.reverse_string())"
   ]
  },
  {
   "cell_type": "code",
   "execution_count": null,
   "metadata": {},
   "outputs": [],
   "source": []
  },
  {
   "cell_type": "code",
   "execution_count": null,
   "metadata": {},
   "outputs": [],
   "source": []
  }
 ],
 "metadata": {
  "kernelspec": {
   "display_name": "Python 3",
   "language": "python",
   "name": "python3"
  },
  "language_info": {
   "codemirror_mode": {
    "name": "ipython",
    "version": 3
   },
   "file_extension": ".py",
   "mimetype": "text/x-python",
   "name": "python",
   "nbconvert_exporter": "python",
   "pygments_lexer": "ipython3",
   "version": "3.7.4"
  }
 },
 "nbformat": 4,
 "nbformat_minor": 2
}
