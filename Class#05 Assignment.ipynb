{
 "cells": [
  {
   "cell_type": "code",
   "execution_count": 1,
   "metadata": {},
   "outputs": [
    {
     "name": "stdout",
     "output_type": "stream",
     "text": [
      "The area of Circle is:  237.66659999999996\n",
      "The area of Circle is:  265.76959999999997\n",
      "The area of Circle is:  806.8572260000001\n"
     ]
    }
   ],
   "source": [
    "def calcArea(r,PI=3.14):\n",
    "    area_of_circle = PI*r*r\n",
    "    return area_of_circle\n",
    "print(\"The area of Circle is: \",calcArea(8.7))\n",
    "print(\"The area of Circle is: \",calcArea(9.2))\n",
    "print(\"The area of Circle is: \",calcArea(16.03))"
   ]
  },
  {
   "cell_type": "code",
   "execution_count": 25,
   "metadata": {},
   "outputs": [
    {
     "name": "stdout",
     "output_type": "stream",
     "text": [
      "Enter The data which you want to found: nav\n",
      "None\n"
     ]
    }
   ],
   "source": [
    "data = [\"python\", \"r\", \"java\", \"pascal\", \"c\", \"javascript\", \"assembley\", \"html\", \"c++\"]\n",
    "def checkVal(item):\n",
    "    for i in data:\n",
    "        if i ==item:\n",
    "            return i\n",
    "print(checkVal(input(\"Enter The data which you want to found: \")))"
   ]
  },
  {
   "cell_type": "code",
   "execution_count": 8,
   "metadata": {},
   "outputs": [
    {
     "name": "stdout",
     "output_type": "stream",
     "text": [
      "Enter length: -3\n",
      "-----------------------Shifted Element--------------------------------\n",
      "['assembley', 'html', 'c++']\n",
      "-----------------------First Remove From List-------------------------\n",
      "['python', 'r', 'java', 'pascal', 'c', 'javascript']\n",
      "-------------------------New list-------------------------------------\n",
      "['assembley', 'html', 'c++', 'python', 'r', 'java', 'pascal', 'c', 'javascript']\n"
     ]
    }
   ],
   "source": [
    "def shiftItem(data_item,res):\n",
    "    print(\"-----------------------Shifted Element--------------------------------\")\n",
    "    print(res)\n",
    "    for i in res:\n",
    "        data_item.remove(i)\n",
    "    print(\"-----------------------First Remove From List-------------------------\")\n",
    "    print(data_item)\n",
    "    print(\"-------------------------New list-------------------------------------\")\n",
    "    print(res+data_item)\n",
    "    return\n",
    "data_item = [\"python\", \"r\", \"java\", \"pascal\", \"c\", \"javascript\", \"assembley\", \"html\", \"c++\"]\n",
    "print(shiftItem(data_item,data_item[int(input(\"Enter length: \")):]))"
   ]
  },
  {
   "cell_type": "code",
   "execution_count": 18,
   "metadata": {},
   "outputs": [
    {
     "name": "stdout",
     "output_type": "stream",
     "text": [
      "Enter the radius of a Circle: 8.7\n",
      "237.66659999999996\n",
      "Enter quit if you want to stop otherwise press c : qiut\n",
      "Enter the radius of a Circle: 4\n",
      "50.24\n",
      "Enter quit if you want to stop otherwise press c : quit\n"
     ]
    }
   ],
   "source": [
    "PI = 3.14\n",
    "condition = None\n",
    "while condition !=\"quit\":\n",
    "    r = float(input(\"Enter the radius of a Circle: \"))\n",
    "    res = PI*r*r\n",
    "    print(res)\n",
    "    condition = input(\"Enter quit if you want to stop otherwise press c : \")"
   ]
  },
  {
   "cell_type": "code",
   "execution_count": 8,
   "metadata": {},
   "outputs": [
    {
     "name": "stdout",
     "output_type": "stream",
     "text": [
      "Hello Naveed\n",
      "Here is your result for class of BS Computer Science.\n",
      "Your score card is as follows.\n",
      "ClassMarks:\n",
      "\tmath : 50 \n",
      "\tphysics : 80 \n",
      "\tbiology : 90 \n",
      "\tcomputer : 67 \n",
      "Total marks are: 287 \n",
      "Percentage is as follows: 71.75%\n",
      "Maximum marks are in \"biology\"\n",
      "Minimum marks are in \"math\"\n",
      "You are promoted to next class.\n"
     ]
    }
   ],
   "source": [
    " \n",
    "def func(dicto):\n",
    "    print_dic=\"\"\n",
    "    total_mark=0\n",
    "    for subjects, marks in dicto.items():\n",
    "        print_dic +=\"\\n\\t{} : {} \".format(subjects,marks)\n",
    "        # calculate total marks\n",
    "        total_mark+=marks\n",
    "        \n",
    "    # average find\n",
    "    avg = total_mark/len(dicto)\n",
    "    \n",
    "    # finding min marks\n",
    "    min_marks = min(dicto.values())\n",
    "    \n",
    "    # finding max marks\n",
    "    max_marks = max(dicto.values())\n",
    "    \n",
    "    # working on this, to get key of max/min value\n",
    "    for key, value in dicto.items(): \n",
    "        if max_marks == value: \n",
    "            max_mess='Maximum marks are in \"'+key+'\"'\n",
    "        if min_marks == value: \n",
    "            min_mess='Minimum marks are in \"'+key+'\"' \n",
    "            \n",
    "    # concatinating all strings\n",
    "    str1 = '\\nTotal marks are: '+str(total_mark)+' \\nPercentage is as follows: '+str(avg)+'%\\n'+str(max_mess)+'\\n'+str(min_mess)+''\n",
    "    final_str = print_dic + str1\n",
    "    return final_str\n",
    "# function defination\n",
    "def showDetails(**dicto):\n",
    "    if dicto['nextClass'] == True:\n",
    "        m='Hello '+ dicto['name'] + '\\nHere is your result for class of '+ dicto['class_name'] + '.\\nYour score card is as follows.\\nClassMarks:'+ func(dicto['marks']) + '\\nYou are promoted to next class.'\n",
    "        print(m)\n",
    "    else:\n",
    "        m='Hello '+ dicto['name'] + '\\nHere is your result for class of '+ dicto['class_name'] + '.\\nYour score card is as follows.\\nClassMarks:'+ func(dicto['marks']) + '\\nYou are not promoted to next class.'\n",
    "        print(m)\n",
    "    \n",
    "# calling function, with some arguments\n",
    "showDetails(name = \"Naveed\", class_name = \"BS Computer Science\", marks = {\"math\" : 50, \"physics\" : 80, \"biology\" : 90, \"computer\" : 67}, date = \"1 Feb 2020\", nextClass = True)"
   ]
  },
  {
   "cell_type": "code",
   "execution_count": null,
   "metadata": {},
   "outputs": [],
   "source": []
  }
 ],
 "metadata": {
  "kernelspec": {
   "display_name": "Python 3",
   "language": "python",
   "name": "python3"
  },
  "language_info": {
   "codemirror_mode": {
    "name": "ipython",
    "version": 3
   },
   "file_extension": ".py",
   "mimetype": "text/x-python",
   "name": "python",
   "nbconvert_exporter": "python",
   "pygments_lexer": "ipython3",
   "version": "3.7.4"
  }
 },
 "nbformat": 4,
 "nbformat_minor": 2
}
